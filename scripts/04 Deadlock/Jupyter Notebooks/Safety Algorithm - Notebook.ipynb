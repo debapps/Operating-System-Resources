{
 "cells": [
  {
   "cell_type": "code",
   "execution_count": 1,
   "id": "ea46cb5b",
   "metadata": {},
   "outputs": [],
   "source": [
    "import numpy as np\n",
    "import pandas as pd\n",
    "import os"
   ]
  },
  {
   "cell_type": "markdown",
   "id": "18e8219b",
   "metadata": {},
   "source": [
    "***Input Directory and JSON files.***"
   ]
  },
  {
   "cell_type": "code",
   "execution_count": 2,
   "id": "53ceca00",
   "metadata": {},
   "outputs": [],
   "source": [
    "inputDir = r'../Resource_Allocation_State_data'\n",
    "AllocationFile = os.path.join(inputDir, 'Allocation.json')\n",
    "MaxFile = os.path.join(inputDir, 'Max.json')\n",
    "AvailableFile = os.path.join(inputDir, 'Available.json')"
   ]
  },
  {
   "cell_type": "markdown",
   "id": "d555ac06",
   "metadata": {},
   "source": [
    "***Getting the Matrices: Allocation, Max, Available***"
   ]
  },
  {
   "cell_type": "code",
   "execution_count": 3,
   "id": "1dcd1fb2",
   "metadata": {},
   "outputs": [
    {
     "data": {
      "text/plain": [
       "array([[0, 1, 0],\n",
       "       [2, 0, 0],\n",
       "       [3, 0, 2],\n",
       "       [2, 1, 1],\n",
       "       [0, 0, 2]], dtype=int64)"
      ]
     },
     "execution_count": 3,
     "metadata": {},
     "output_type": "execute_result"
    }
   ],
   "source": [
    "Allocation = pd.read_json(AllocationFile, orient='index').to_numpy()\n",
    "Allocation"
   ]
  },
  {
   "cell_type": "code",
   "execution_count": 4,
   "id": "d95c7504",
   "metadata": {},
   "outputs": [
    {
     "data": {
      "text/plain": [
       "array([[7, 5, 3],\n",
       "       [3, 2, 2],\n",
       "       [9, 0, 2],\n",
       "       [2, 2, 2],\n",
       "       [4, 3, 3]], dtype=int64)"
      ]
     },
     "execution_count": 4,
     "metadata": {},
     "output_type": "execute_result"
    }
   ],
   "source": [
    "Max = pd.read_json(MaxFile, orient='index').to_numpy()\n",
    "Max"
   ]
  },
  {
   "cell_type": "code",
   "execution_count": 5,
   "id": "bf80b2aa",
   "metadata": {},
   "outputs": [
    {
     "data": {
      "text/plain": [
       "array([3, 3, 2], dtype=int64)"
      ]
     },
     "execution_count": 5,
     "metadata": {},
     "output_type": "execute_result"
    }
   ],
   "source": [
    "Available = pd.read_json(AvailableFile, orient='index').to_numpy()[0]\n",
    "Available"
   ]
  },
  {
   "cell_type": "markdown",
   "id": "0c686ea5",
   "metadata": {},
   "source": [
    "***Calculationg the Need Matrix***"
   ]
  },
  {
   "cell_type": "code",
   "execution_count": 6,
   "id": "7679e358",
   "metadata": {},
   "outputs": [
    {
     "data": {
      "text/plain": [
       "array([[7, 4, 3],\n",
       "       [1, 2, 2],\n",
       "       [6, 0, 0],\n",
       "       [0, 1, 1],\n",
       "       [4, 3, 1]], dtype=int64)"
      ]
     },
     "execution_count": 6,
     "metadata": {},
     "output_type": "execute_result"
    }
   ],
   "source": [
    "Need = Max - Allocation\n",
    "Need"
   ]
  },
  {
   "cell_type": "markdown",
   "id": "67459209",
   "metadata": {},
   "source": [
    "***Safety Algorithm Starts: STEP 01***"
   ]
  },
  {
   "cell_type": "code",
   "execution_count": 7,
   "id": "7b81e5f9",
   "metadata": {},
   "outputs": [
    {
     "data": {
      "text/plain": [
       "array([3, 3, 2], dtype=int64)"
      ]
     },
     "execution_count": 7,
     "metadata": {},
     "output_type": "execute_result"
    }
   ],
   "source": [
    "# m = number of processes.\n",
    "m = 5\n",
    "Work = Available.copy()\n",
    "Work"
   ]
  },
  {
   "cell_type": "code",
   "execution_count": 8,
   "id": "91e677c1",
   "metadata": {},
   "outputs": [
    {
     "data": {
      "text/plain": [
       "[False, False, False, False, False]"
      ]
     },
     "execution_count": 8,
     "metadata": {},
     "output_type": "execute_result"
    }
   ],
   "source": [
    "# Creation of Finish list.\n",
    "Finish = [False for i in range(m)]\n",
    "Finish"
   ]
  },
  {
   "cell_type": "markdown",
   "id": "a910d3b3",
   "metadata": {},
   "source": [
    "***STEP 02***"
   ]
  },
  {
   "cell_type": "code",
   "execution_count": 9,
   "id": "513bcc0c",
   "metadata": {},
   "outputs": [
    {
     "name": "stdout",
     "output_type": "stream",
     "text": [
      "\n",
      "Resource State\n",
      "Available: [5 3 2]\n",
      "Finish State: [False, True, False, False, False]\n",
      "safe_sequence: ['P1']\n",
      "\n",
      "Resource State\n",
      "Available: [7 4 3]\n",
      "Finish State: [False, True, False, True, False]\n",
      "safe_sequence: ['P1', 'P3']\n",
      "\n",
      "Resource State\n",
      "Available: [7 4 5]\n",
      "Finish State: [False, True, False, True, True]\n",
      "safe_sequence: ['P1', 'P3', 'P4']\n",
      "\n",
      "Resource State\n",
      "Available: [7 5 5]\n",
      "Finish State: [True, True, False, True, True]\n",
      "safe_sequence: ['P1', 'P3', 'P4', 'P0']\n",
      "\n",
      "Resource State\n",
      "Available: [10  5  7]\n",
      "Finish State: [True, True, True, True, True]\n",
      "safe_sequence: ['P1', 'P3', 'P4', 'P0', 'P2']\n"
     ]
    }
   ],
   "source": [
    "safe_sequence = []\n",
    "\n",
    "while True:\n",
    "    for i in range(m):\n",
    "        if Finish[i] == False and np.all(Need[i,:] <= Work):\n",
    "            Work += Allocation[i,:]\n",
    "            Finish[i] = True\n",
    "            safe_sequence.append(f'P{i}')\n",
    "            \n",
    "            print('\\nResource State')  \n",
    "            print(f'Available: {Work}')\n",
    "            print(f'Finish State: {Finish}')\n",
    "            print(f'safe_sequence: {safe_sequence}')\n",
    "\n",
    "            continue\n",
    "        else:\n",
    "            Track = Finish.copy()\n",
    "            \n",
    "    \n",
    "    if Track == Finish:\n",
    "        break\n",
    "    \n"
   ]
  },
  {
   "cell_type": "markdown",
   "id": "01cac545",
   "metadata": {},
   "source": [
    "***STEP 03***"
   ]
  },
  {
   "cell_type": "code",
   "execution_count": 10,
   "id": "efee2e1c",
   "metadata": {},
   "outputs": [
    {
     "name": "stdout",
     "output_type": "stream",
     "text": [
      "The System is safe. Safe Sequence - ['P1', 'P3', 'P4', 'P0', 'P2']\n"
     ]
    }
   ],
   "source": [
    "if all(Finish):\n",
    "    print(f'The System is safe. Safe Sequence - {safe_sequence}')\n",
    "else:\n",
    "    print('The System is NOT safe.')"
   ]
  },
  {
   "cell_type": "code",
   "execution_count": null,
   "id": "551c9d99",
   "metadata": {},
   "outputs": [],
   "source": []
  }
 ],
 "metadata": {
  "kernelspec": {
   "display_name": "Python 3 (ipykernel)",
   "language": "python",
   "name": "python3"
  },
  "language_info": {
   "codemirror_mode": {
    "name": "ipython",
    "version": 3
   },
   "file_extension": ".py",
   "mimetype": "text/x-python",
   "name": "python",
   "nbconvert_exporter": "python",
   "pygments_lexer": "ipython3",
   "version": "3.9.13"
  }
 },
 "nbformat": 4,
 "nbformat_minor": 5
}
